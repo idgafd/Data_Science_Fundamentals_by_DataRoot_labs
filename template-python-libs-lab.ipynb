{
 "cells": [
  {
   "cell_type": "markdown",
   "metadata": {
    "colab_type": "text",
    "id": "g0b3IEgTsdcD-webhook",
    "pycharm": {
     "name": "#%% md\n"
    }
   },
   "source": [
    "# Libraries: numpy, scipy, pandas"
   ]
  },
  {
   "cell_type": "markdown",
   "metadata": {
    "pycharm": {
     "name": "#%% md\n"
    }
   },
   "source": [
    "> **Important note:** Before submission make sure that you **didn't add or delete any notebook cells**. Otherwise your work may not be accepted by the validator!"
   ]
  },
  {
   "cell_type": "code",
   "execution_count": 4,
   "metadata": {
    "colab": {
     "autoexec": {
      "startup": false,
      "wait_interval": 0
     }
    },
    "colab_type": "code",
    "id": "Be4_dnVpsdcF",
    "pycharm": {
     "name": "#%%\n"
    }
   },
   "outputs": [],
   "source": [
    "import numpy as np\n",
    "import matplotlib.pyplot as plt\n",
    "import pandas as pd"
   ]
  },
  {
   "cell_type": "markdown",
   "metadata": {
    "pycharm": {
     "name": "#%% md\n"
    }
   },
   "source": [
    "#### 1. Implement function which creates a $nxm$ matrix and fills it with a checkerboard pattern:\n",
    "<div style=\"text-align: right\">1 point</div>"
   ]
  },
  {
   "cell_type": "code",
   "execution_count": 29,
   "metadata": {
    "pycharm": {
     "name": "#%%\n"
    }
   },
   "outputs": [],
   "source": [
    "def checkerboard(n, m):\n",
    "    \"\"\"\n",
    "    :n: int\n",
    "    :m: int\n",
    "    :return: numpy.ndarray\n",
    "    \"\"\"\n",
    "    # YOUR CODE HERE\n",
    "    a = np.zeros((n,m), dtype=int)\n",
    "    a[::2, 1::2]=1\n",
    "    a[1::2, ::2]=1\n",
    "    return a"
   ]
  },
  {
   "cell_type": "code",
   "execution_count": 30,
   "metadata": {
    "pycharm": {
     "name": "#%%\n"
    }
   },
   "outputs": [
    {
     "name": "stdout",
     "output_type": "stream",
     "text": [
      "Checkerboard pattern: \n",
      " [[0 1 0]\n",
      " [1 0 1]\n",
      " [0 1 0]]\n"
     ]
    }
   ],
   "source": [
    "print('Checkerboard pattern: \\n', checkerboard(3, 3))"
   ]
  },
  {
   "cell_type": "markdown",
   "metadata": {
    "pycharm": {
     "name": "#%% md\n"
    }
   },
   "source": [
    "Expected Output: \n",
    "<table>\n",
    "  <tr>\n",
    "    <td></td>\n",
    "    <td> [[0 1 0]\n",
    "  <tr>\n",
    "    <td>Checkerboard pattern: </td>\n",
    "    <td> [1 0 1]\n",
    "  <tr>\n",
    "    <td></td>\n",
    "    <td> [0 1 0]]"
   ]
  },
  {
   "cell_type": "markdown",
   "metadata": {
    "pycharm": {
     "name": "#%% md\n"
    }
   },
   "source": [
    "#### 2. Implement function which solves system of linear equations:\n",
    "<div style=\"text-align: right\">1 point</div>"
   ]
  },
  {
   "cell_type": "code",
   "execution_count": 31,
   "metadata": {
    "pycharm": {
     "name": "#%%\n"
    }
   },
   "outputs": [],
   "source": [
    "def solve_system(a, b):\n",
    "    \"\"\"\n",
    "    :a: list[list]\n",
    "    :b: list\n",
    "    :return: numpy.ndarray\n",
    "    \"\"\"\n",
    "    # YOUR CODE HERE\n",
    "    a = np.array(a)\n",
    "    b = np.array(b)\n",
    "    return np.linalg.solve(a,b)"
   ]
  },
  {
   "cell_type": "code",
   "execution_count": 32,
   "metadata": {
    "pycharm": {
     "name": "#%%\n"
    }
   },
   "outputs": [
    {
     "name": "stdout",
     "output_type": "stream",
     "text": [
      "Result:  [2. 3.]\n"
     ]
    }
   ],
   "source": [
    "print('Result: ', solve_system([[3,1], [1,2]], [9,8]))"
   ]
  },
  {
   "cell_type": "markdown",
   "metadata": {
    "pycharm": {
     "name": "#%% md\n"
    }
   },
   "source": [
    "Expected Output: \n",
    "<table>\n",
    "  <tr>\n",
    "    <td>Result:</td>\n",
    "    <td> [2. 3.] </td> \n",
    "  </tr>"
   ]
  },
  {
   "cell_type": "markdown",
   "metadata": {
    "pycharm": {
     "name": "#%% md\n"
    }
   },
   "source": [
    "#### 3. Implement function which multiplies 2 matrixes and returns the max value of each column of the resulting matrix:\n",
    "<div style=\"text-align: right\">1 point</div>"
   ]
  },
  {
   "cell_type": "code",
   "execution_count": 38,
   "metadata": {
    "pycharm": {
     "name": "#%%\n"
    }
   },
   "outputs": [],
   "source": [
    "def mult(m1, m2):\n",
    "    \"\"\"\n",
    "    :m1: numpy.ndarray\n",
    "    :m2: numpy.ndarray\n",
    "    :return: numpy.ndarray\n",
    "    \"\"\"\n",
    "    # YOUR CODE HERE\n",
    "    return np.max(np.dot(m1,m2), axis=0)"
   ]
  },
  {
   "cell_type": "code",
   "execution_count": 39,
   "metadata": {},
   "outputs": [
    {
     "name": "stdout",
     "output_type": "stream",
     "text": [
      "Result:  [28 83]\n"
     ]
    }
   ],
   "source": [
    "p = np.array([[1, 9], [0, 1]])\n",
    "q = np.array([[1, 2], [3, 9]])\n",
    "print('Result: ', mult(p, q))"
   ]
  },
  {
   "cell_type": "markdown",
   "metadata": {
    "pycharm": {
     "name": "#%% md\n"
    }
   },
   "source": [
    "Expected Output: \n",
    "<table>\n",
    "  <tr>\n",
    "    <td>Result:</td>\n",
    "    <td> [28 83] </td> \n",
    "  </tr>"
   ]
  },
  {
   "cell_type": "markdown",
   "metadata": {
    "colab_type": "text",
    "id": "cXP-v9zRjPM5",
    "pycharm": {
     "name": "#%% md\n"
    }
   },
   "source": [
    "#### 4. Implement function add_mean_and_calc_det(matrix), which adds to each element in the matrix row the mean of this row and returns the determinant of the resulting matrix.\n",
    "<div style=\"text-align: right\">1 point</div>"
   ]
  },
  {
   "cell_type": "code",
   "execution_count": 59,
   "metadata": {
    "colab": {
     "autoexec": {
      "startup": false,
      "wait_interval": 0
     }
    },
    "colab_type": "code",
    "id": "4_Hz6gEPjPM5",
    "pycharm": {
     "name": "#%%\n"
    }
   },
   "outputs": [],
   "source": [
    "def add_mean_and_calc_det(matrix):\n",
    "    \"\"\"\n",
    "    :matrix: numpy.ndarray[list[list[int]]]\n",
    "    :return: numpy.float64\n",
    "    \"\"\"\n",
    "    means = np.mean(matrix, axis=1)\n",
    "    #another way to add matrix without numpy broadcasting\n",
    "    #means_m = np.array([means]*matrix.shape[1]).T \n",
    "    means_m = [[x] for x in means]\n",
    "    matrix_new = matrix + means_m\n",
    "    return np.linalg.det(matrix_new)\n",
    "    # YOUR CODE HERE"
   ]
  },
  {
   "cell_type": "code",
   "execution_count": 60,
   "metadata": {
    "colab": {
     "autoexec": {
      "startup": false,
      "wait_interval": 0
     }
    },
    "colab_type": "code",
    "id": "zZO__kp_sdcN",
    "pycharm": {
     "name": "#%%\n"
    }
   },
   "outputs": [
    {
     "name": "stdout",
     "output_type": "stream",
     "text": [
      "Result: 72.0\n"
     ]
    }
   ],
   "source": [
    "print('Result:', add_mean_and_calc_det(np.array([[5, 3, 4], [7, 9, 8], [6, 7, 8]])))"
   ]
  },
  {
   "cell_type": "markdown",
   "metadata": {
    "colab_type": "text",
    "id": "xmzo4PEssdcP",
    "pycharm": {
     "name": "#%% md\n"
    }
   },
   "source": [
    "Expected Output: \n",
    "<table>\n",
    "  <tr>\n",
    "    <td>Result:</td>\n",
    "    <td> 72.0 </td> \n",
    "  </tr>"
   ]
  },
  {
   "cell_type": "markdown",
   "metadata": {
    "colab_type": "text",
    "id": "FUAr1WPCjPM8",
    "pycharm": {
     "name": "#%% md\n"
    }
   },
   "source": [
    "#### 5. Implement function nearest_to_scalar(matrix, n), which returns the closest to n number in the matrix.\n",
    "<div style=\"text-align: right\">1 point</div>"
   ]
  },
  {
   "cell_type": "code",
   "execution_count": 62,
   "metadata": {
    "colab": {
     "autoexec": {
      "startup": false,
      "wait_interval": 0
     }
    },
    "colab_type": "code",
    "id": "VLS3S8g-jPM9",
    "pycharm": {
     "name": "#%%\n"
    }
   },
   "outputs": [],
   "source": [
    "import numpy as np\n",
    "def nearest_to_scalar(matrix, n):\n",
    "    \"\"\"\n",
    "    :param matrix: numpy.ndarray[list[list[int]]]\n",
    "    :param n: int\n",
    "    :return: int  \n",
    "    \"\"\"\n",
    "    # YOUR CODE HERE\n",
    "    matrix = np.array(matrix)\n",
    "    abs_diff = np.abs(matrix - n)\n",
    "    min_index = np.unravel_index(np.argmin(abs_diff), abs_diff.shape)\n",
    "    return matrix[min_index]"
   ]
  },
  {
   "cell_type": "code",
   "execution_count": 63,
   "metadata": {
    "colab": {
     "autoexec": {
      "startup": false,
      "wait_interval": 0
     }
    },
    "colab_type": "code",
    "id": "OKSqsu9FsdcS",
    "pycharm": {
     "name": "#%%\n"
    }
   },
   "outputs": [
    {
     "name": "stdout",
     "output_type": "stream",
     "text": [
      "Nearest: 9\n"
     ]
    }
   ],
   "source": [
    "print('Nearest:', nearest_to_scalar(np.array([[5, 3, 4], [7, 9, 8], [6, 7, 8]]), 11))"
   ]
  },
  {
   "cell_type": "markdown",
   "metadata": {
    "colab_type": "text",
    "id": "cSW-eweGsdcV",
    "pycharm": {
     "name": "#%% md\n"
    }
   },
   "source": [
    "Expected Output:\n",
    "<table>\n",
    "  <tr>\n",
    "    <td>Nearest:</td>\n",
    "    <td> 9 </td> \n",
    "  </tr>"
   ]
  },
  {
   "cell_type": "markdown",
   "metadata": {
    "colab_type": "text",
    "id": "0z5-m5v_jPM_",
    "pycharm": {
     "name": "#%% md\n"
    }
   },
   "source": [
    "#### 6. Implement function svd_ranks(Z) which performs SVD of given matrix and returns a list of ranks of matrices U, S and V.\n",
    "<div style=\"text-align: right\">1 point</div>"
   ]
  },
  {
   "cell_type": "code",
   "execution_count": 69,
   "metadata": {
    "colab": {
     "autoexec": {
      "startup": false,
      "wait_interval": 0
     }
    },
    "colab_type": "code",
    "id": "8m-SG2hJjPNA",
    "pycharm": {
     "name": "#%%\n"
    }
   },
   "outputs": [],
   "source": [
    "def svd_ranks(Z): \n",
    "    \"\"\"\n",
    "    :param Z: numpy.ndarray[list[list[int]]]\n",
    "    :return: list  \n",
    "    \"\"\"\n",
    "    # YOUR CODE HERE\n",
    "    U,S,V = np.linalg.svd(Z)\n",
    "    return [np.linalg.matrix_rank(U),\n",
    "             np.linalg.matrix_rank(np.diag(S)),\n",
    "             np.linalg.matrix_rank(V)]"
   ]
  },
  {
   "cell_type": "code",
   "execution_count": 70,
   "metadata": {
    "colab": {
     "autoexec": {
      "startup": false,
      "wait_interval": 0
     }
    },
    "colab_type": "code",
    "id": "UGrS-YK7sdcY",
    "pycharm": {
     "name": "#%%\n"
    }
   },
   "outputs": [
    {
     "name": "stdout",
     "output_type": "stream",
     "text": [
      "Svd ranks: [3, 2, 3]\n"
     ]
    }
   ],
   "source": [
    "print('Svd ranks:', svd_ranks(np.arange(9).reshape((3, 3))))"
   ]
  },
  {
   "cell_type": "markdown",
   "metadata": {
    "colab_type": "text",
    "id": "9RGRmS-Tsdcb",
    "pycharm": {
     "name": "#%% md\n"
    }
   },
   "source": [
    "Expected Output: \n",
    "<table>\n",
    "  <tr>\n",
    "    <td>Svd ranks:</td>\n",
    "    <td> [3, 2, 3] </td> \n",
    "  </tr>"
   ]
  },
  {
   "cell_type": "markdown",
   "metadata": {
    "pycharm": {
     "name": "#%% md\n"
    }
   },
   "source": [
    "#### 7. Implement function to sort a given complex array using the real part first, then the imaginary part:\n",
    "<div style=\"text-align: right\">1 point</div>"
   ]
  },
  {
   "cell_type": "code",
   "execution_count": 85,
   "metadata": {
    "pycharm": {
     "name": "#%%\n"
    }
   },
   "outputs": [],
   "source": [
    "def complex_sort(complex_nums):\n",
    "    \"\"\"\n",
    "    :complex_nums: list\n",
    "    :return: np.array  \n",
    "    \"\"\"\n",
    "    # YOUR CODE HERE\n",
    "    complex_array = np.array(complex_nums)\n",
    "    sorted_indices = np.lexsort((complex_array.imag, complex_array.real))\n",
    "    sorted_complex_array = complex_array[sorted_indices]\n",
    "    return sorted_complex_array"
   ]
  },
  {
   "cell_type": "code",
   "execution_count": 86,
   "metadata": {
    "pycharm": {
     "name": "#%%\n"
    }
   },
   "outputs": [
    {
     "name": "stdout",
     "output_type": "stream",
     "text": [
      "Result:  [1.+2.j 3.-2.j 3.-1.j 3.+5.j 4.-3.j]\n"
     ]
    }
   ],
   "source": [
    "print('Result: ', complex_sort([1 + 2j, 3 - 1j, 3 - 2j, 4 - 3j, 3 + 5j]))"
   ]
  },
  {
   "cell_type": "markdown",
   "metadata": {
    "pycharm": {
     "name": "#%% md\n"
    }
   },
   "source": [
    "Expected Output: \n",
    "<table>\n",
    "  <tr>\n",
    "    <td>Result:</td>\n",
    "    <td> [1.+2.j 3.-2.j 3.-1.j 3.+5.j 4.-3.j]"
   ]
  },
  {
   "cell_type": "markdown",
   "metadata": {
    "pycharm": {
     "name": "#%% md\n"
    }
   },
   "source": [
    "#### 8. Implement a function that computes the Mandelbrot fractal:\n",
    "<div style=\"text-align: right\">4 points</div>"
   ]
  },
  {
   "cell_type": "code",
   "execution_count": 93,
   "metadata": {
    "pycharm": {
     "name": "#%%\n"
    }
   },
   "outputs": [],
   "source": [
    "def compute_mandelbrot(n_max, threshold, nx, ny):\n",
    "    \"\"\"\n",
    "    :n_max: int\n",
    "    :threshold: float\n",
    "    :nx: int\n",
    "    :ny: int\n",
    "    :return: np.array  \n",
    "    \"\"\"\n",
    "    # A grid of c-values\n",
    "    x = np.linspace(-2, 1, nx)\n",
    "    y = np.linspace(-1.5, 1.5, ny)\n",
    "\n",
    "    c = x[:,np.newaxis] + 1j * y[np.newaxis,:]\n",
    "\n",
    "    # Mandelbrot iteration\n",
    "    # YOUR CODE HERE\n",
    "    mandelbrot_set = np.zeros((nx, ny), dtype=int)\n",
    "    for i in range(nx):\n",
    "        for j in range(ny):\n",
    "            z = 0\n",
    "            c_value = c[i, j]\n",
    "            n = 0\n",
    "            while abs(z) <= 2 and n < n_max:\n",
    "                z = z * z + c_value\n",
    "                n += 1\n",
    "            mandelbrot_set[i, j] = n\n",
    "\n",
    "    return mandelbrot_set"
   ]
  },
  {
   "cell_type": "code",
   "execution_count": 94,
   "metadata": {
    "pycharm": {
     "name": "#%%\n"
    }
   },
   "outputs": [
    {
     "name": "stdout",
     "output_type": "stream",
     "text": [
      "Shape:  (601, 401)\n"
     ]
    },
    {
     "data": {
      "image/png": "[encoded data removed]",
      "text/plain": [
       "<Figure size 640x480 with 1 Axes>"
      ]
     },
     "metadata": {},
     "output_type": "display_data"
    }
   ],
   "source": [
    "mandelbrot_set = compute_mandelbrot(50, 50., 601, 401)\n",
    "plt.imshow(mandelbrot_set.T, extent=[-2, 1, -1.5, 1.5])\n",
    "print('Shape: ', mandelbrot_set.shape)"
   ]
  },
  {
   "cell_type": "markdown",
   "metadata": {
    "pycharm": {
     "name": "#%% md\n"
    }
   },
   "source": [
    "Expected Output: \n",
    "<table>\n",
    "  <tr>\n",
    "    <td>Shape:</td>\n",
    "    <td> (601, 401)</td>\n",
    "<td><img src=\"https://dru.fra1.digitaloceanspaces.com/DS_Fundamentals/static/03_python_for_ds/lab/Python_for_Data_Science/img/08-mandelbrot.png\"></td>"
   ]
  },
  {
   "cell_type": "markdown",
   "metadata": {
    "colab_type": "text",
    "id": "cV0BQjaGjPND",
    "pycharm": {
     "name": "#%% md\n"
    }
   },
   "source": [
    "#### 9. Consider the following dictionary \"data\" and list \"labels\":"
   ]
  },
  {
   "cell_type": "code",
   "execution_count": 113,
   "metadata": {
    "colab": {
     "autoexec": {
      "startup": false,
      "wait_interval": 0
     }
    },
    "colab_type": "code",
    "id": "_C0MzBX8jPND",
    "pycharm": {
     "name": "#%%\n"
    }
   },
   "outputs": [],
   "source": [
    "data = {'animal': ['cat', 'cat', 'dog', 'dog', 'cat', 'cat', 'dog', 'cat', 'dog', 'dog'],\n",
    "        'age': [2.5, 1, 0.5, np.nan, 5, 2, 3.5, np.nan, 7, 3],\n",
    "        'weight': [1, 3, 6, 8, 4, 3, 10, 2, 7, 3],\n",
    "        'priority': ['yes', 'yes', 'no', 'yes', 'no', 'no', 'no', 'yes', 'no', 'no']}\n",
    "\n",
    "labels = ['a', 'b', 'c', 'd', 'e', 'f', 'g', 'h', 'i', 'j']"
   ]
  },
  {
   "cell_type": "markdown",
   "metadata": {
    "colab_type": "text",
    "id": "9erbHYY0jPNJ",
    "pycharm": {
     "name": "#%% md\n"
    }
   },
   "source": [
    "**9.1 Implement function repl_nan(data, labels) which creates a dataframe from dictionary  \"data\" with indexes from the list \"labels\", replaces the values \"nan\" in the age field by the mean age depending on the animal's type and returns a new dataframe.**\n",
    "<div style=\"text-align: right\">1 point</div>"
   ]
  },
  {
   "cell_type": "code",
   "execution_count": 119,
   "metadata": {
    "colab": {
     "autoexec": {
      "startup": false,
      "wait_interval": 0
     }
    },
    "colab_type": "code",
    "id": "TTd04W3zjPNL",
    "pycharm": {
     "name": "#%%\n"
    }
   },
   "outputs": [],
   "source": [
    "def repl_nan(data, labels):    \n",
    "    \"\"\"\n",
    "    :param data: dict\n",
    "    :param labels: list[str]\n",
    "    :return: pandas.core.frame.DataFrame \n",
    "    \"\"\"\n",
    "    # YOUR CODE HERE\n",
    "    df = pd.DataFrame(data, index = labels)\n",
    "    mean_age_by_animal = df.groupby('animal')['age'].mean()\n",
    "    \n",
    "    for animal, mean_age in mean_age_by_animal.items():\n",
    "        df.loc[(df['animal'] == animal) & (df['age'].isnull()), 'age'] = mean_age\n",
    "        \n",
    "    return df"
   ]
  },
  {
   "cell_type": "code",
   "execution_count": 120,
   "metadata": {
    "colab": {
     "autoexec": {
      "startup": false,
      "wait_interval": 0
     }
    },
    "colab_type": "code",
    "id": "05k_bNK5sdck",
    "pycharm": {
     "name": "#%%\n"
    }
   },
   "outputs": [
    {
     "data": {
      "text/html": [
       "<div>\n",
       "<style scoped>\n",
       "    .dataframe tbody tr th:only-of-type {\n",
       "        vertical-align: middle;\n",
       "    }\n",
       "\n",
       "    .dataframe tbody tr th {\n",
       "        vertical-align: top;\n",
       "    }\n",
       "\n",
       "    .dataframe thead th {\n",
       "        text-align: right;\n",
       "    }\n",
       "</style>\n",
       "<table border=\"1\" class=\"dataframe\">\n",
       "  <thead>\n",
       "    <tr style=\"text-align: right;\">\n",
       "      <th></th>\n",
       "      <th>animal</th>\n",
       "      <th>age</th>\n",
       "      <th>weight</th>\n",
       "      <th>priority</th>\n",
       "    </tr>\n",
       "  </thead>\n",
       "  <tbody>\n",
       "    <tr>\n",
       "      <th>a</th>\n",
       "      <td>cat</td>\n",
       "      <td>2.500</td>\n",
       "      <td>1</td>\n",
       "      <td>yes</td>\n",
       "    </tr>\n",
       "    <tr>\n",
       "      <th>b</th>\n",
       "      <td>cat</td>\n",
       "      <td>1.000</td>\n",
       "      <td>3</td>\n",
       "      <td>yes</td>\n",
       "    </tr>\n",
       "    <tr>\n",
       "      <th>c</th>\n",
       "      <td>dog</td>\n",
       "      <td>0.500</td>\n",
       "      <td>6</td>\n",
       "      <td>no</td>\n",
       "    </tr>\n",
       "    <tr>\n",
       "      <th>d</th>\n",
       "      <td>dog</td>\n",
       "      <td>3.500</td>\n",
       "      <td>8</td>\n",
       "      <td>yes</td>\n",
       "    </tr>\n",
       "    <tr>\n",
       "      <th>e</th>\n",
       "      <td>cat</td>\n",
       "      <td>5.000</td>\n",
       "      <td>4</td>\n",
       "      <td>no</td>\n",
       "    </tr>\n",
       "    <tr>\n",
       "      <th>f</th>\n",
       "      <td>cat</td>\n",
       "      <td>2.000</td>\n",
       "      <td>3</td>\n",
       "      <td>no</td>\n",
       "    </tr>\n",
       "    <tr>\n",
       "      <th>g</th>\n",
       "      <td>dog</td>\n",
       "      <td>3.500</td>\n",
       "      <td>10</td>\n",
       "      <td>no</td>\n",
       "    </tr>\n",
       "    <tr>\n",
       "      <th>h</th>\n",
       "      <td>cat</td>\n",
       "      <td>2.625</td>\n",
       "      <td>2</td>\n",
       "      <td>yes</td>\n",
       "    </tr>\n",
       "    <tr>\n",
       "      <th>i</th>\n",
       "      <td>dog</td>\n",
       "      <td>7.000</td>\n",
       "      <td>7</td>\n",
       "      <td>no</td>\n",
       "    </tr>\n",
       "    <tr>\n",
       "      <th>j</th>\n",
       "      <td>dog</td>\n",
       "      <td>3.000</td>\n",
       "      <td>3</td>\n",
       "      <td>no</td>\n",
       "    </tr>\n",
       "  </tbody>\n",
       "</table>\n",
       "</div>"
      ],
      "text/plain": [
       "  animal    age  weight priority\n",
       "a    cat  2.500       1      yes\n",
       "b    cat  1.000       3      yes\n",
       "c    dog  0.500       6       no\n",
       "d    dog  3.500       8      yes\n",
       "e    cat  5.000       4       no\n",
       "f    cat  2.000       3       no\n",
       "g    dog  3.500      10       no\n",
       "h    cat  2.625       2      yes\n",
       "i    dog  7.000       7       no\n",
       "j    dog  3.000       3       no"
      ]
     },
     "execution_count": 120,
     "metadata": {},
     "output_type": "execute_result"
    }
   ],
   "source": [
    "repl_nan(data, labels)"
   ]
  },
  {
   "cell_type": "markdown",
   "metadata": {
    "colab_type": "text",
    "id": "5FUJ0jkssdcm",
    "pycharm": {
     "name": "#%% md\n"
    }
   },
   "source": [
    "Expected Output: \n",
    "\n",
    "|index| animal   |   age |   weight | priority   |\n",
    "|----|----------|-------|----------|------------|\n",
    "| **a**  | cat      | 2.5   |        1 | yes        |\n",
    "| **b**  | cat      | 1     |        3 | yes        |\n",
    "| **c**  | dog      | 0.5   |        6 | no         |\n",
    "| **d**  | dog      | 3.5   |        8 | yes        |\n",
    "| **e**  | cat      | 5     |        4 | no         |\n",
    "| **f**  | cat      | 2     |        3 | no         |\n",
    "| **g**  | dog      | 3.5   |       10 | no         |\n",
    "| **h**  | cat      | 2.625 |        2 | yes        |\n",
    "| **i**  | dog      | 7     |        7 | no         |\n",
    "| **j**  | dog      | 3     |        3 | no         |"
   ]
  },
  {
   "cell_type": "markdown",
   "metadata": {
    "colab_type": "text",
    "id": "nnrks-vGjPNO",
    "pycharm": {
     "name": "#%% md\n"
    }
   },
   "source": [
    "#### 9.2 Implement function weight_to_type(data, labels) which creates a dataframe from dictionary \"data\" with indexes from the list \"labels\", calculates average weight of each animal type and returns dictionary with these values, where keys are animal types and values are animal weights.\n",
    "<div style=\"text-align: right\">1 point</div>"
   ]
  },
  {
   "cell_type": "code",
   "execution_count": 139,
   "metadata": {
    "colab": {
     "autoexec": {
      "startup": false,
      "wait_interval": 0
     }
    },
    "colab_type": "code",
    "id": "v5fN_pdbjPNP",
    "pycharm": {
     "name": "#%%\n"
    }
   },
   "outputs": [],
   "source": [
    "def weight_to_type(data, labels):    \n",
    "    \"\"\"\n",
    "    :param data: dict\n",
    "    :param labels: list[str]\n",
    "    :return: dict\n",
    "    \"\"\"\n",
    "    # YOUR CODE HERE\n",
    "    df = pd.DataFrame(data, index=labels)\n",
    "    \n",
    "    avg_weight_by_type = df.groupby('animal')['weight'].mean()\n",
    "    \n",
    "    return avg_weight_by_type.to_dict()"
   ]
  },
  {
   "cell_type": "code",
   "execution_count": 140,
   "metadata": {
    "colab": {
     "autoexec": {
      "startup": false,
      "wait_interval": 0
     }
    },
    "colab_type": "code",
    "id": "SaHRr_bAsdct",
    "pycharm": {
     "name": "#%%\n"
    }
   },
   "outputs": [
    {
     "name": "stdout",
     "output_type": "stream",
     "text": [
      "weight_to_type {'cat': 2.6, 'dog': 6.8}\n"
     ]
    }
   ],
   "source": [
    "print('weight_to_type', weight_to_type(data, labels))"
   ]
  },
  {
   "cell_type": "markdown",
   "metadata": {
    "colab_type": "text",
    "id": "NBfp6yiEsdcv",
    "pycharm": {
     "name": "#%% md\n"
    }
   },
   "source": [
    "Expected Output: \n",
    "<table>\n",
    "  <tr>\n",
    "    <td>weight_to_type:</td>\n",
    "    <td> {'cat': 2.6, 'dog': 6.8} </td> \n",
    "  </tr>"
   ]
  },
  {
   "cell_type": "markdown",
   "metadata": {
    "colab_type": "text",
    "id": "aMRFy0acjPNS",
    "pycharm": {
     "name": "#%% md\n"
    }
   },
   "source": [
    "#### 9.3  Implement function kittens(data, labels) which creates a dataframe from dictionary \"data\" with indexes from the list \"labels\" and returns dataframe with data about cats with age < 3.\n",
    "<div style=\"text-align: right\">1 point</div>"
   ]
  },
  {
   "cell_type": "code",
   "execution_count": 141,
   "metadata": {
    "colab": {
     "autoexec": {
      "startup": false,
      "wait_interval": 0
     }
    },
    "colab_type": "code",
    "id": "iUdq_fcdjPNU",
    "pycharm": {
     "name": "#%%\n"
    }
   },
   "outputs": [],
   "source": [
    "def kittens(data, labels):    \n",
    "    \"\"\"\n",
    "    :param data: dict\n",
    "    :param labels: list[str]\n",
    "    :return: pandas.core.frame.DataFrame\n",
    "    \"\"\"\n",
    "    # YOUR CODE HERE\n",
    "    df = pd.DataFrame(data, index=labels)\n",
    "    \n",
    "    kittens_df = df[(df['animal'] == 'cat') & (df['age'] < 3)]\n",
    "    \n",
    "    return kittens_df"
   ]
  },
  {
   "cell_type": "code",
   "execution_count": 142,
   "metadata": {
    "colab": {
     "autoexec": {
      "startup": false,
      "wait_interval": 0
     }
    },
    "colab_type": "code",
    "id": "yM0tVIKJsdcx",
    "pycharm": {
     "name": "#%%\n"
    }
   },
   "outputs": [
    {
     "data": {
      "text/html": [
       "<div>\n",
       "<style scoped>\n",
       "    .dataframe tbody tr th:only-of-type {\n",
       "        vertical-align: middle;\n",
       "    }\n",
       "\n",
       "    .dataframe tbody tr th {\n",
       "        vertical-align: top;\n",
       "    }\n",
       "\n",
       "    .dataframe thead th {\n",
       "        text-align: right;\n",
       "    }\n",
       "</style>\n",
       "<table border=\"1\" class=\"dataframe\">\n",
       "  <thead>\n",
       "    <tr style=\"text-align: right;\">\n",
       "      <th></th>\n",
       "      <th>animal</th>\n",
       "      <th>age</th>\n",
       "      <th>weight</th>\n",
       "      <th>priority</th>\n",
       "    </tr>\n",
       "  </thead>\n",
       "  <tbody>\n",
       "    <tr>\n",
       "      <th>a</th>\n",
       "      <td>cat</td>\n",
       "      <td>2.5</td>\n",
       "      <td>1</td>\n",
       "      <td>yes</td>\n",
       "    </tr>\n",
       "    <tr>\n",
       "      <th>b</th>\n",
       "      <td>cat</td>\n",
       "      <td>1.0</td>\n",
       "      <td>3</td>\n",
       "      <td>yes</td>\n",
       "    </tr>\n",
       "    <tr>\n",
       "      <th>f</th>\n",
       "      <td>cat</td>\n",
       "      <td>2.0</td>\n",
       "      <td>3</td>\n",
       "      <td>no</td>\n",
       "    </tr>\n",
       "  </tbody>\n",
       "</table>\n",
       "</div>"
      ],
      "text/plain": [
       "  animal  age  weight priority\n",
       "a    cat  2.5       1      yes\n",
       "b    cat  1.0       3      yes\n",
       "f    cat  2.0       3       no"
      ]
     },
     "execution_count": 142,
     "metadata": {},
     "output_type": "execute_result"
    }
   ],
   "source": [
    "kittens(data, labels)"
   ]
  },
  {
   "cell_type": "markdown",
   "metadata": {
    "colab_type": "text",
    "id": "K-8_bYeRsdcz",
    "pycharm": {
     "name": "#%% md\n"
    }
   },
   "source": [
    "Expected Output: \n",
    "\n",
    "|  index  | animal   |   age |   weight | priority   |\n",
    "|:---|:---------|------:|---------:|:-----------|\n",
    "| a  | cat      |   2.5 |        1 | yes        |\n",
    "| b  | cat      |   1   |        3 | yes        |\n",
    "| f  | cat      |   2   |        3 | no         |"
   ]
  },
  {
   "cell_type": "markdown",
   "metadata": {
    "colab_type": "text",
    "id": "Mtc079yNjPNZ",
    "pycharm": {
     "name": "#%% md\n"
    }
   },
   "source": [
    "#### 9.4  Implement function sorted_df(data, labels) which creates a dataframe from dictionary \"data\" with indexes from the list \"labels\" which returns dataframe sorted  firstly by age in a decreasing order, secondly, for the number of weight in ascending order.\n",
    "<div style=\"text-align: right\">1 point</div>"
   ]
  },
  {
   "cell_type": "code",
   "execution_count": 121,
   "metadata": {
    "colab": {
     "autoexec": {
      "startup": false,
      "wait_interval": 0
     }
    },
    "colab_type": "code",
    "id": "zaQ4-bqLjPNa",
    "pycharm": {
     "name": "#%%\n"
    }
   },
   "outputs": [],
   "source": [
    "def sorted_df(data, labels):\n",
    "    \"\"\"\n",
    "    :param data: dict\n",
    "    :param labels: list[str]\n",
    "    :return: pandas.core.frame.DataFrame \n",
    "    \"\"\"\n",
    "    # YOUR CODE HERE\n",
    "    df = pd.DataFrame(data, index=labels)\n",
    "    sorted_df = df.sort_values(by=['age', 'weight'], ascending=[False, True])\n",
    "    return sorted_df"
   ]
  },
  {
   "cell_type": "code",
   "execution_count": 122,
   "metadata": {
    "colab": {
     "autoexec": {
      "startup": false,
      "wait_interval": 0
     }
    },
    "colab_type": "code",
    "id": "frofbFYTsdc2",
    "pycharm": {
     "name": "#%%\n"
    }
   },
   "outputs": [
    {
     "data": {
      "text/html": [
       "<div>\n",
       "<style scoped>\n",
       "    .dataframe tbody tr th:only-of-type {\n",
       "        vertical-align: middle;\n",
       "    }\n",
       "\n",
       "    .dataframe tbody tr th {\n",
       "        vertical-align: top;\n",
       "    }\n",
       "\n",
       "    .dataframe thead th {\n",
       "        text-align: right;\n",
       "    }\n",
       "</style>\n",
       "<table border=\"1\" class=\"dataframe\">\n",
       "  <thead>\n",
       "    <tr style=\"text-align: right;\">\n",
       "      <th></th>\n",
       "      <th>animal</th>\n",
       "      <th>age</th>\n",
       "      <th>weight</th>\n",
       "      <th>priority</th>\n",
       "    </tr>\n",
       "  </thead>\n",
       "  <tbody>\n",
       "    <tr>\n",
       "      <th>i</th>\n",
       "      <td>dog</td>\n",
       "      <td>7.0</td>\n",
       "      <td>7</td>\n",
       "      <td>no</td>\n",
       "    </tr>\n",
       "    <tr>\n",
       "      <th>e</th>\n",
       "      <td>cat</td>\n",
       "      <td>5.0</td>\n",
       "      <td>4</td>\n",
       "      <td>no</td>\n",
       "    </tr>\n",
       "    <tr>\n",
       "      <th>g</th>\n",
       "      <td>dog</td>\n",
       "      <td>3.5</td>\n",
       "      <td>10</td>\n",
       "      <td>no</td>\n",
       "    </tr>\n",
       "    <tr>\n",
       "      <th>j</th>\n",
       "      <td>dog</td>\n",
       "      <td>3.0</td>\n",
       "      <td>3</td>\n",
       "      <td>no</td>\n",
       "    </tr>\n",
       "    <tr>\n",
       "      <th>a</th>\n",
       "      <td>cat</td>\n",
       "      <td>2.5</td>\n",
       "      <td>1</td>\n",
       "      <td>yes</td>\n",
       "    </tr>\n",
       "    <tr>\n",
       "      <th>f</th>\n",
       "      <td>cat</td>\n",
       "      <td>2.0</td>\n",
       "      <td>3</td>\n",
       "      <td>no</td>\n",
       "    </tr>\n",
       "    <tr>\n",
       "      <th>b</th>\n",
       "      <td>cat</td>\n",
       "      <td>1.0</td>\n",
       "      <td>3</td>\n",
       "      <td>yes</td>\n",
       "    </tr>\n",
       "    <tr>\n",
       "      <th>c</th>\n",
       "      <td>dog</td>\n",
       "      <td>0.5</td>\n",
       "      <td>6</td>\n",
       "      <td>no</td>\n",
       "    </tr>\n",
       "    <tr>\n",
       "      <th>h</th>\n",
       "      <td>cat</td>\n",
       "      <td>NaN</td>\n",
       "      <td>2</td>\n",
       "      <td>yes</td>\n",
       "    </tr>\n",
       "    <tr>\n",
       "      <th>d</th>\n",
       "      <td>dog</td>\n",
       "      <td>NaN</td>\n",
       "      <td>8</td>\n",
       "      <td>yes</td>\n",
       "    </tr>\n",
       "  </tbody>\n",
       "</table>\n",
       "</div>"
      ],
      "text/plain": [
       "  animal  age  weight priority\n",
       "i    dog  7.0       7       no\n",
       "e    cat  5.0       4       no\n",
       "g    dog  3.5      10       no\n",
       "j    dog  3.0       3       no\n",
       "a    cat  2.5       1      yes\n",
       "f    cat  2.0       3       no\n",
       "b    cat  1.0       3      yes\n",
       "c    dog  0.5       6       no\n",
       "h    cat  NaN       2      yes\n",
       "d    dog  NaN       8      yes"
      ]
     },
     "execution_count": 122,
     "metadata": {},
     "output_type": "execute_result"
    }
   ],
   "source": [
    "sorted_df(data, labels)"
   ]
  },
  {
   "cell_type": "markdown",
   "metadata": {
    "colab_type": "text",
    "id": "KZwK1kj4sdc3",
    "pycharm": {
     "name": "#%% md\n"
    }
   },
   "source": [
    "Expected Output: \n",
    "\n",
    "|  index| animal   |   age |   weight | priority   |\n",
    "|:---|:---------|------:|---------:|:-----------|\n",
    "| i  | dog      |   7   |        7 | no         |\n",
    "| e  | cat      |   5   |        4 | no         |\n",
    "| g  | dog      |   3.5 |       10 | no         |\n",
    "| j  | dog      |   3   |        3 | no         |\n",
    "| a  | cat      |   2.5 |        1 | yes        |\n",
    "| f  | cat      |   2   |        3 | no         |\n",
    "| b  | cat      |   1   |        3 | yes        |\n",
    "| c  | dog      |   0.5 |        6 | no         |\n",
    "| h  | cat      | nan   |        2 | yes        |\n",
    "| d  | dog      | nan   |        8 | yes        |"
   ]
  },
  {
   "cell_type": "markdown",
   "metadata": {
    "pycharm": {
     "name": "#%% md\n"
    }
   },
   "source": [
    "#### 10. Markov Chain\n",
    "<div style=\"text-align: right\">5 points</div>\n",
    "<img src=\"https://dru.fra1.digitaloceanspaces.com/DS_Fundamentals/static/03_python_for_ds/lab/Python_for_Data_Science/img/08-markov-chain.png\">\n",
    "\n",
    "Markov chain transition matrix P, and probability distribution on the states p:\n",
    "\n",
    "1. $0 <= P[i,j] <= 1:$ probability to go from state i to state j\n",
    "2. Transition rule: $p_{new} = P^T p_{old}$\n",
    "3. all(sum(P, axis=1) == 1), p.sum() == 1: normalization\n",
    "\n",
    "#### Implement function that works with 5 states, and:\n",
    "\n",
    "1. Constructs a random matrix, and normalizes each row so that it is a transition matrix.\n",
    "2. Starts from a random (normalized) probability distribution p and takes n_states => p_(n_states)\n",
    "3. Computes the stationary distribution: the eigenvector of P.T with eigenvalue 1 (numerically: closest to 1) => p_stationary\n",
    "\n",
    "(Don't forget to normalize the eigenvector)\n",
    "\n",
    "Checks if p_(n_states) and p_stationary are equal to tolerance"
   ]
  },
  {
   "cell_type": "code",
   "execution_count": 136,
   "metadata": {
    "pycharm": {
     "name": "#%%\n"
    }
   },
   "outputs": [],
   "source": [
    "def markov_chain(n_states, n_steps, tolerance):\n",
    "    \"\"\"\n",
    "    :n_states: int\n",
    "    :n_steps: int\n",
    "    :tolerance: float\n",
    "    :return: np.array, np.array \n",
    "    \"\"\"\n",
    "    \n",
    "    np.random.seed(1234)\n",
    "    \n",
    "\n",
    "    P = np.random.rand(n_states, n_states)\n",
    "    P /= P.sum(axis=1, keepdims=True) \n",
    "    p = np.random.rand(n_states)\n",
    "    p /= p.sum()\n",
    "    \n",
    "    for _ in range(n_steps):\n",
    "        p = P.T @ p\n",
    "    \n",
    "    eigenvalues, eigenvectors = np.linalg.eig(P.T)\n",
    "    stationary_idx = np.argmin(np.abs(eigenvalues - 1))\n",
    "    p_stationary = np.abs(eigenvectors[:, stationary_idx].real)\n",
    "    p_stationary /= p_stationary.sum()\n",
    "    \n",
    "    return p_stationary, p"
   ]
  },
  {
   "cell_type": "code",
   "execution_count": 137,
   "metadata": {
    "pycharm": {
     "name": "#%%\n"
    }
   },
   "outputs": [
    {
     "name": "stdout",
     "output_type": "stream",
     "text": [
      "Tolerance satisfied in infty-norm\n",
      "Tolerance satisfied in 2-norm\n",
      "p_stationary:  [0.17642782 0.21675892 0.16375743 0.20031888 0.13175137 0.11098559]\n",
      "p_last:  [0.17642782 0.21675892 0.16375743 0.20031888 0.13175137 0.11098559]\n"
     ]
    }
   ],
   "source": [
    "n_states = 6\n",
    "n_steps = 60\n",
    "tolerance = 1e-5\n",
    "p_stationary, p_last = markov_chain(n_states, n_steps, tolerance)\n",
    "\n",
    "if all(abs(p_last - p_stationary) < tolerance):\n",
    "    print(\"Tolerance satisfied in infty-norm\")\n",
    "\n",
    "if np.linalg.norm(p_last - p_stationary) < tolerance:\n",
    "    print(\"Tolerance satisfied in 2-norm\")\n",
    "    \n",
    "print('p_stationary: ', p_stationary)\n",
    "print('p_last: ', p_last)"
   ]
  },
  {
   "cell_type": "markdown",
   "metadata": {
    "pycharm": {
     "name": "#%% md\n"
    }
   },
   "source": [
    "Expected Output: \n",
    "<table>\n",
    "  <tr>\n",
    "    <td>Tolerance satisfied in infty-norm</td>\n",
    "  <tr>\n",
    "    <td>Tolerance satisfied in infty-norm</td>\n",
    "  <tr>\n",
    "    <td>p_stationary:   [0.17642782 0.21675892 0.16375743 0.20031888 0.13175137 0.11098559]</td>\n",
    "  <tr>\n",
    "    <td>p_last:  [0.17642782 0.21675892 0.16375743 0.20031888 0.13175137 0.11098559]</td>\n",
    "    "
   ]
  },
  {
   "cell_type": "markdown",
   "metadata": {
    "pycharm": {
     "name": "#%% md\n"
    }
   },
   "source": [
    "##### Python for Data Science lab Done!"
   ]
  },
  {
   "cell_type": "markdown",
   "metadata": {
    "pycharm": {
     "name": "#%% md\n"
    }
   },
   "source": [
    "##### Make sure that you didn't add or delete any notebook cells. Otherwise your work may not be accepted by the validator!"
   ]
  }
 ],
 "metadata": {
  "colab": {
   "collapsed_sections": [],
   "default_view": {},
   "name": "DataRoot University  _ Data Science Module 1 _ Test 1.ipynb",
   "provenance": [],
   "version": "0.3.2",
   "views": {}
  },
  "kernelspec": {
   "display_name": "Python 3 (ipykernel)",
   "language": "python",
   "name": "python3"
  },
  "language_info": {
   "codemirror_mode": {
    "name": "ipython",
    "version": 3
   },
   "file_extension": ".py",
   "mimetype": "text/x-python",
   "name": "python",
   "nbconvert_exporter": "python",
   "pygments_lexer": "ipython3",
   "version": "3.11.3"
  }
 },
 "nbformat": 4,
 "nbformat_minor": 1
}
